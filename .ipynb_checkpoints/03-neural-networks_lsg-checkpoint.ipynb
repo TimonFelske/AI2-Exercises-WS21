{
 "cells": [
  {
   "cell_type": "markdown",
   "metadata": {},
   "source": [
    "# Neuronale Netze\n",
    "\n",
    "In dieser Übung schauen wir uns zwei sehr einfache Beispiele für neuronale Netze an. Wenn ihr darüber hinausgehend Interesse an neuronalen Netzen habt, empfehle ich die Lehrveranstaltung \"AI 3: Artificial Neural Networks\" im Sommersemester.\n",
    "\n",
    "Falls ihr an der Theorie und den mathematischen Details interessiert seid, ist aus meiner Sicht folgendes Buch sehr empfehlenswert: https://www.deeplearningbook.org/ (u.a. von Yoshua Bengio, der zusammen mit Geoffrey Hinton und Yann LeCun den Turing-Award 2018 für Arbeiten an Deep Learning-Methoden erhalten hat).\n",
    "\n",
    "Es gibt natürlich eine vielzahl weiterführender praktischer Tutorials für Deep Learning. Aber Achtung: Viele Tutorials zeigen nur sehr knapp, wie man ein neuronales Netz trainiert und evaluiert, ignorieren aber das oft etwas mühsame, aber wichtige Drumherum, also das Vorbereiten des Datensatzes usw. Dieses Tutorial zeigt das hingegen sehr schön: https://www.pyimagesearch.com/2018/09/10/keras-tutorial-how-to-get-started-with-keras-deep-learning-and-python/"
   ]
  },
  {
   "cell_type": "code",
   "execution_count": 94,
   "metadata": {},
   "outputs": [
    {
     "data": {
      "text/html": [
       "<div>\n",
       "<style scoped>\n",
       "    .dataframe tbody tr th:only-of-type {\n",
       "        vertical-align: middle;\n",
       "    }\n",
       "\n",
       "    .dataframe tbody tr th {\n",
       "        vertical-align: top;\n",
       "    }\n",
       "\n",
       "    .dataframe thead th {\n",
       "        text-align: right;\n",
       "    }\n",
       "</style>\n",
       "<table border=\"1\" class=\"dataframe\">\n",
       "  <thead>\n",
       "    <tr style=\"text-align: right;\">\n",
       "      <th></th>\n",
       "      <th>SepalLength</th>\n",
       "      <th>SepalWidth</th>\n",
       "      <th>PetalLength</th>\n",
       "      <th>PetalWidth</th>\n",
       "      <th>Name</th>\n",
       "    </tr>\n",
       "  </thead>\n",
       "  <tbody>\n",
       "    <tr>\n",
       "      <th>0</th>\n",
       "      <td>5.1</td>\n",
       "      <td>3.5</td>\n",
       "      <td>1.4</td>\n",
       "      <td>0.2</td>\n",
       "      <td>Iris-setosa</td>\n",
       "    </tr>\n",
       "    <tr>\n",
       "      <th>1</th>\n",
       "      <td>4.9</td>\n",
       "      <td>3.0</td>\n",
       "      <td>1.4</td>\n",
       "      <td>0.2</td>\n",
       "      <td>Iris-setosa</td>\n",
       "    </tr>\n",
       "    <tr>\n",
       "      <th>2</th>\n",
       "      <td>4.7</td>\n",
       "      <td>3.2</td>\n",
       "      <td>1.3</td>\n",
       "      <td>0.2</td>\n",
       "      <td>Iris-setosa</td>\n",
       "    </tr>\n",
       "    <tr>\n",
       "      <th>3</th>\n",
       "      <td>4.6</td>\n",
       "      <td>3.1</td>\n",
       "      <td>1.5</td>\n",
       "      <td>0.2</td>\n",
       "      <td>Iris-setosa</td>\n",
       "    </tr>\n",
       "    <tr>\n",
       "      <th>4</th>\n",
       "      <td>5.0</td>\n",
       "      <td>3.6</td>\n",
       "      <td>1.4</td>\n",
       "      <td>0.2</td>\n",
       "      <td>Iris-setosa</td>\n",
       "    </tr>\n",
       "    <tr>\n",
       "      <th>...</th>\n",
       "      <td>...</td>\n",
       "      <td>...</td>\n",
       "      <td>...</td>\n",
       "      <td>...</td>\n",
       "      <td>...</td>\n",
       "    </tr>\n",
       "    <tr>\n",
       "      <th>145</th>\n",
       "      <td>6.7</td>\n",
       "      <td>3.0</td>\n",
       "      <td>5.2</td>\n",
       "      <td>2.3</td>\n",
       "      <td>Iris-virginica</td>\n",
       "    </tr>\n",
       "    <tr>\n",
       "      <th>146</th>\n",
       "      <td>6.3</td>\n",
       "      <td>2.5</td>\n",
       "      <td>5.0</td>\n",
       "      <td>1.9</td>\n",
       "      <td>Iris-virginica</td>\n",
       "    </tr>\n",
       "    <tr>\n",
       "      <th>147</th>\n",
       "      <td>6.5</td>\n",
       "      <td>3.0</td>\n",
       "      <td>5.2</td>\n",
       "      <td>2.0</td>\n",
       "      <td>Iris-virginica</td>\n",
       "    </tr>\n",
       "    <tr>\n",
       "      <th>148</th>\n",
       "      <td>6.2</td>\n",
       "      <td>3.4</td>\n",
       "      <td>5.4</td>\n",
       "      <td>2.3</td>\n",
       "      <td>Iris-virginica</td>\n",
       "    </tr>\n",
       "    <tr>\n",
       "      <th>149</th>\n",
       "      <td>5.9</td>\n",
       "      <td>3.0</td>\n",
       "      <td>5.1</td>\n",
       "      <td>1.8</td>\n",
       "      <td>Iris-virginica</td>\n",
       "    </tr>\n",
       "  </tbody>\n",
       "</table>\n",
       "<p>150 rows × 5 columns</p>\n",
       "</div>"
      ],
      "text/plain": [
       "     SepalLength  SepalWidth  PetalLength  PetalWidth            Name\n",
       "0            5.1         3.5          1.4         0.2     Iris-setosa\n",
       "1            4.9         3.0          1.4         0.2     Iris-setosa\n",
       "2            4.7         3.2          1.3         0.2     Iris-setosa\n",
       "3            4.6         3.1          1.5         0.2     Iris-setosa\n",
       "4            5.0         3.6          1.4         0.2     Iris-setosa\n",
       "..           ...         ...          ...         ...             ...\n",
       "145          6.7         3.0          5.2         2.3  Iris-virginica\n",
       "146          6.3         2.5          5.0         1.9  Iris-virginica\n",
       "147          6.5         3.0          5.2         2.0  Iris-virginica\n",
       "148          6.2         3.4          5.4         2.3  Iris-virginica\n",
       "149          5.9         3.0          5.1         1.8  Iris-virginica\n",
       "\n",
       "[150 rows x 5 columns]"
      ]
     },
     "execution_count": 94,
     "metadata": {},
     "output_type": "execute_result"
    }
   ],
   "source": [
    "import pandas as pd\n",
    "\n",
    "df = pd.read_csv(\"iris.csv\", index_col=0)\n",
    "df"
   ]
  },
  {
   "cell_type": "code",
   "execution_count": 109,
   "metadata": {},
   "outputs": [
    {
     "data": {
      "text/plain": [
       "[<matplotlib.lines.Line2D at 0x7fdd4aae0e90>]"
      ]
     },
     "execution_count": 109,
     "metadata": {},
     "output_type": "execute_result"
    },
    {
     "data": {
      "image/png": "[encoded data removed]",
      "text/plain": [
       "<Figure size 432x288 with 1 Axes>"
      ]
     },
     "metadata": {
      "needs_background": "light"
     },
     "output_type": "display_data"
    }
   ],
   "source": [
    "import matplotlib.pyplot as plt\n",
    "plt.plot(df.SepalWidth.values, df.PetalLength.values,'o')"
   ]
  },
  {
   "cell_type": "markdown",
   "metadata": {},
   "source": [
    "## Neuronale Netze für Regression\n",
    "\n",
    "\n",
    "\n",
    "In dieser Übung verwenden wir `keras` für das Training von neuronalen Netzen. Weitere Informationen zu diesem Paket finden Sie hier: https://keras.io/\n",
    "\n",
    "Die Beispiele, die wir uns in der Übung anschauen, sollten aber (hoffentlich) recht selbsterklärend sein. In dem Beispiel unten beschreiben wir die Netzwerkstruktur in Keras. Dieses Netzwerk besteht nur aus einem einzigen Knoten, die Aktivierungsfunktion ist die Identität. Zudem legen wir fest, dass wir den Mean Squared Error als Loss-Funktion nutzen wollen, und den Adam-Optimizer. "
   ]
  },
  {
   "cell_type": "code",
   "execution_count": null,
   "metadata": {},
   "outputs": [],
   "source": [
    "import numpy as np\n",
    "import pandas as pd\n",
    "import keras\n",
    "from keras.models import Sequential\n",
    "from keras.layers import Dense, Input, Flatten, Softmax\n",
    "import matplotlib.pyplot as plt\n",
    "\n",
    "model = Sequential([ \n",
    "    Dense(1,                         # number of units in the layer\n",
    "          input_shape=(1,),          # shape of the inputs\n",
    "          activation='linear',       # the unit computes a simple linear (identity function) on its input\n",
    "          kernel_initializer='ones', # the weights (there is just one in this example) are initialised to 1\n",
    "          use_bias=False             # the unit does not use a bias term as offset\n",
    ")])\n",
    "\n",
    "model.compile(optimizer='adam', loss='mse')\n"
   ]
  },
  {
   "cell_type": "markdown",
   "metadata": {},
   "source": [
    "Nun trainieren und evaluieren wir das Modell. Das Array `x` wird später für den Plot der Netzwerkfunktion benötigt. Dann trainieren wir ein Modell mit SepalWidth als Input und PetalLength als Output. Alle 25 Trainingsepochen bestimmen wir die Prädiktion der Werte in `x` mit der Funktion `predict` (diese benötigen wir, um die Netzwerkfunktion zu plotten) und geben den Wert der Loss-Funktion aus. "
   ]
  },
  {
   "cell_type": "code",
   "execution_count": 103,
   "metadata": {},
   "outputs": [
    {
     "name": "stdout",
     "output_type": "stream",
     "text": [
      "Loss after 25 epochs: 4.205177\n",
      "Loss after 50 epochs: 4.144640\n",
      "Loss after 75 epochs: 4.132361\n",
      "Loss after 100 epochs: 4.130443\n",
      "Loss after 125 epochs: 4.130252\n",
      "The network's coefficient is: 1.170187\n"
     ]
    },
    {
     "data": {
      "image/png": "[encoded data removed]",
      "text/plain": [
       "<Figure size 432x288 with 1 Axes>"
      ]
     },
     "metadata": {
      "needs_background": "light"
     },
     "output_type": "display_data"
    }
   ],
   "source": [
    "\n",
    "\n",
    "x = np.linspace(0,5,num=100)\n",
    "# let's train the network for 5 iterations of 25 epochs each ...\n",
    "iterations = 5\n",
    "epochs_per_iter = 25\n",
    "number_of_ephochs_trained=0\n",
    "for i in range(iterations):\n",
    "    model.fit(df.SepalWidth, df.PetalLength, epochs=epochs_per_iter, verbose=0)\n",
    "    number_of_ephochs_trained = number_of_ephochs_trained + epochs_per_iter\n",
    "    y = model.predict(x)\n",
    "    l = model.evaluate(df.SepalWidth, df.PetalLength, verbose=0)\n",
    "    print('Loss after %i epochs: %f' % (number_of_ephochs_trained, l))\n",
    "    plt.plot(x,y, label=\"%i epochs\" % (number_of_ephochs_trained))\n",
    "\n",
    "plt.legend()\n",
    "plt.xticks(np.arange(0, 5, 1))\n",
    "plt.yticks(np.arange(0, 7, 1))\n",
    "\n",
    "def show(plt, title=None, xlabel=None, ylabel=None, legend=True, grid=True):\n",
    "    if title: plt.title(title)\n",
    "    if xlabel: plt.xlabel(xlabel)\n",
    "    if ylabel: plt.ylabel(ylabel)\n",
    "    if grid: plt.grid()\n",
    "    if legend: plt.legend()\n",
    "    plt.show()\n",
    "    \n",
    "def get_coefficient(m):\n",
    "    return model.layers[0].get_weights()[0][0][0]\n",
    "\n",
    "def show_coefficient(m):\n",
    "    print(\"The network's coefficient is: %5f\" % get_coefficient(m))\n",
    "\n",
    "    \n",
    "show_coefficient(model)\n",
    "\n",
    "show(plt, 'Network function for different epochs', 'x', 'y')"
   ]
  },
  {
   "cell_type": "markdown",
   "metadata": {},
   "source": [
    "*Aufgabe*: Was für eine Funktion stellt dieses Netzwerk dar?"
   ]
  },
  {
   "cell_type": "markdown",
   "metadata": {},
   "source": [
    "*Aufgabe*: Vergleichen Sie die Ergebnisse mit der linearen Regression von Übung 2. Fügen Sie weitere Neuronen hinzu und verändern Sie die Aktivierungsfunktion. Wie ändert sich die der Loss und die Netzwerkfunktion?"
   ]
  },
  {
   "cell_type": "code",
   "execution_count": 108,
   "metadata": {},
   "outputs": [
    {
     "name": "stdout",
     "output_type": "stream",
     "text": [
      "Loss after 100 epochs: 3.765754\n",
      "Loss after 200 epochs: 3.481816\n",
      "Loss after 300 epochs: 3.086211\n",
      "Loss after 400 epochs: 2.719127\n",
      "Loss after 500 epochs: 2.572811\n"
     ]
    },
    {
     "data": {
      "image/png": "[encoded data removed]",
      "text/plain": [
       "<Figure size 432x288 with 1 Axes>"
      ]
     },
     "metadata": {
      "needs_background": "light"
     },
     "output_type": "display_data"
    }
   ],
   "source": [
    "model = Sequential([ \n",
    "    Dense(10,                         # number of units in the layer\n",
    "          input_shape=(1,),          # shape of the inputs\n",
    "          activation='relu'),      # the unit computes a simple linear (identity function) on its input\n",
    "    Dense(5),\n",
    "    Dense(1)    \n",
    "])\n",
    "\n",
    "model.compile(optimizer='adam', loss='mse')\n",
    "\n",
    "\n",
    "x = np.linspace(0,5,num=100)\n",
    "# let's train the network for 5 iterations of 25 epochs each ...\n",
    "iterations = 5\n",
    "epochs_per_iter = 100\n",
    "number_of_ephochs_trained=0\n",
    "for i in range(iterations):\n",
    "    model.fit(df.SepalWidth.values, df.PetalLength.values, epochs=epochs_per_iter, verbose=0)\n",
    "    number_of_ephochs_trained = number_of_ephochs_trained + epochs_per_iter\n",
    "    y = model.predict(x)\n",
    "    l = model.evaluate(df.SepalWidth.values, df.PetalLength.values, verbose=0)\n",
    "    print('Loss after %i epochs: %f' % (number_of_ephochs_trained, l))\n",
    "    plt.plot(x,y, label=\"%i epochs\" % (number_of_ephochs_trained))\n",
    "\n",
    "plt.legend()\n",
    "plt.xticks(np.arange(0, 5, 1))\n",
    "plt.yticks(np.arange(0, 7, 1))\n",
    "\n",
    "def show(plt, title=None, xlabel=None, ylabel=None, legend=True, grid=True):\n",
    "    if title: plt.title(title)\n",
    "    if xlabel: plt.xlabel(xlabel)\n",
    "    if ylabel: plt.ylabel(ylabel)\n",
    "    if grid: plt.grid()\n",
    "    if legend: plt.legend()\n",
    "    plt.show()\n",
    "    \n",
    "\n",
    "#print(model.get_weights())\n",
    "    \n",
    "show(plt, 'Network function for different epochs', 'x', 'y')"
   ]
  },
  {
   "cell_type": "markdown",
   "metadata": {},
   "source": [
    "## MNIST\n",
    "Als nächstes schauen wir uns einen deutlich komplizierteren Datensatz an: MNIST enthält Bilder der Größe 28*28 von handgeschriebenen Ziffern. Die Aufgabe ist es, einen Klassifikator für diese Ziffern zu entwickeln. "
   ]
  },
  {
   "cell_type": "markdown",
   "metadata": {},
   "source": [
    "Zunächst laden wir den Datensatz und konvertieren die Klassen-Labels zu Vektoren mit One-Hot-Encoding."
   ]
  },
  {
   "cell_type": "code",
   "execution_count": 17,
   "metadata": {},
   "outputs": [],
   "source": [
    "from keras.utils import to_categorical\n",
    "import numpy as np\n",
    "import pandas as pd\n",
    "import keras\n",
    "from keras.models import Sequential\n",
    "from keras.layers import Dense, Input, Flatten, Softmax\n",
    "import matplotlib.pyplot as plt\n",
    "import tensorflow as tf\n",
    "\n",
    "dataset = keras.datasets.mnist\n",
    "(train_images, train_labels), (test_images, test_labels) = dataset.load_data()\n",
    "\n",
    "# reshape each image into a vector of length 28*28=784\n",
    "train_images = train_images.reshape((60000,28*28))\n",
    "test_images = test_images.reshape((10000,28*28))\n",
    "\n",
    "train_images, test_images = train_images / 255.0, test_images / 255.0\n",
    "# turn labels into categories\n",
    "train_labels_c = to_categorical(train_labels)\n",
    "test_labels_c  = to_categorical(test_labels)\n",
    "\n"
   ]
  },
  {
   "cell_type": "markdown",
   "metadata": {},
   "source": [
    "Dann erstellen wir ein sehr einfaches Netzwerk mit 10 Neuronen und wählen wieder mean squared error als Loss-Funktion (ist das in diesem Fall sinnvoll?)"
   ]
  },
  {
   "cell_type": "code",
   "execution_count": 36,
   "metadata": {},
   "outputs": [],
   "source": [
    "model = tf.keras.models.Sequential([\n",
    "  tf.keras.layers.Dense(10),\n",
    "])"
   ]
  },
  {
   "cell_type": "code",
   "execution_count": 37,
   "metadata": {},
   "outputs": [],
   "source": [
    "model.compile(optimizer='adam',\n",
    "               loss=\"mse\"\n",
    "              ,metrics=['accuracy'])"
   ]
  },
  {
   "cell_type": "markdown",
   "metadata": {},
   "source": [
    "Schließlich trainieren wir das Modell und erreichen eine Validation Accuracy von ca. 84%. "
   ]
  },
  {
   "cell_type": "code",
   "execution_count": 38,
   "metadata": {},
   "outputs": [
    {
     "name": "stdout",
     "output_type": "stream",
     "text": [
      "Train on 60000 samples, validate on 10000 samples\n",
      "60000/60000 [==============================] - 3s 57us/sample - loss: 0.0489 - accuracy: 0.8089 - val_loss: 0.0413 - val_accuracy: 0.8457\n"
     ]
    }
   ],
   "source": [
    "h = model.fit(train_images, train_labels_c, validation_data=(test_images, test_labels_c), verbose=1)"
   ]
  },
  {
   "cell_type": "markdown",
   "metadata": {},
   "source": [
    "### Aufgabe\n",
    "Verbessern Sie das Modell, indem Sie geeignetere Parameter (z.B. Netzwerkarchitektur, Loss-Funktion) wählen. Welche Validation Accuracy erreicht Ihr Modell?"
   ]
  },
  {
   "cell_type": "code",
   "execution_count": 40,
   "metadata": {},
   "outputs": [
    {
     "name": "stdout",
     "output_type": "stream",
     "text": [
      "Train on 60000 samples, validate on 10000 samples\n",
      "60000/60000 [==============================] - 14s 239us/sample - loss: 0.2614 - accuracy: 0.9253 - val_loss: 0.1373 - val_accuracy: 0.9587\n"
     ]
    }
   ],
   "source": [
    "model = tf.keras.models.Sequential([\n",
    "  #tf.keras.layers.Flatten(input_shape=(28, 28)),\n",
    "  tf.keras.layers.Dense(128, activation='relu'),\n",
    "  tf.keras.layers.Dense(10),\n",
    "  #tf.keras.layers.Softmax()\n",
    "])\n",
    "\n",
    "model.compile(optimizer='adam',\n",
    "              loss=tf.keras.losses.CategoricalCrossentropy(from_logits=True)\n",
    "              ,metrics=['accuracy'])\n",
    "h = model.fit(train_images, train_labels_c, validation_data=(test_images, test_labels_c), verbose=1)"
   ]
  },
  {
   "cell_type": "code",
   "execution_count": 42,
   "metadata": {},
   "outputs": [
    {
     "name": "stdout",
     "output_type": "stream",
     "text": [
      "Train on 60000 samples, validate on 10000 samples\n",
      "60000/60000 [==============================] - 21s 356us/sample - loss: 0.2252 - accuracy: 0.9330 - val_loss: 0.1267 - val_accuracy: 0.9606\n"
     ]
    }
   ],
   "source": [
    "#\"deep learning...\"\n",
    "model = tf.keras.models.Sequential([\n",
    "  tf.keras.layers.Dense(256, activation='relu'),\n",
    "    tf.keras.layers.Dense(256, activation='relu'),\n",
    "    tf.keras.layers.Dense(256, activation='relu'),\n",
    "  tf.keras.layers.Dense(128, activation='relu'),\n",
    "  tf.keras.layers.Dense(64, activation='relu'),\n",
    "  tf.keras.layers.Dense(10),\n",
    "  #tf.keras.layers.Softmax()\n",
    "])\n",
    "\n",
    "model.compile(optimizer='adam',\n",
    "              loss=tf.keras.losses.CategoricalCrossentropy(from_logits=True)\n",
    "              ,metrics=['accuracy'])\n",
    "h = model.fit(train_images, train_labels_c, validation_data=(test_images, test_labels_c), verbose=1)"
   ]
  },
  {
   "cell_type": "code",
   "execution_count": 49,
   "metadata": {},
   "outputs": [
    {
     "name": "stdout",
     "output_type": "stream",
     "text": [
      "Train on 60000 samples, validate on 10000 samples\n",
      "Epoch 1/5\n",
      "60000/60000 [==============================] - 6s 100us/sample - loss: 0.4706 - accuracy: 0.8777 - val_loss: 0.3103 - val_accuracy: 0.9143\n",
      "Epoch 2/5\n",
      "60000/60000 [==============================] - 5s 77us/sample - loss: 0.3034 - accuracy: 0.9159 - val_loss: 0.2825 - val_accuracy: 0.9219\n",
      "Epoch 3/5\n",
      "60000/60000 [==============================] - 7s 111us/sample - loss: 0.2833 - accuracy: 0.9208 - val_loss: 0.2739 - val_accuracy: 0.9231\n",
      "Epoch 4/5\n",
      "60000/60000 [==============================] - 7s 111us/sample - loss: 0.2729 - accuracy: 0.9237 - val_loss: 0.2682 - val_accuracy: 0.9257\n",
      "Epoch 5/5\n",
      "60000/60000 [==============================] - 7s 117us/sample - loss: 0.2667 - accuracy: 0.9259 - val_loss: 0.2676 - val_accuracy: 0.9272\n"
     ]
    }
   ],
   "source": [
    "#mehr epochen\n",
    "model = tf.keras.models.Sequential([\n",
    "  #tf.keras.layers.Flatten(input_shape=(28, 28)),\n",
    "  #tf.keras.layers.Dense(128, activation='relu'),\n",
    "  tf.keras.layers.Dense(10),\n",
    "  #tf.keras.layers.Softmax()\n",
    "])\n",
    "\n",
    "model.compile(optimizer='adam',\n",
    "              loss=tf.keras.losses.CategoricalCrossentropy(from_logits=True)\n",
    "              ,metrics=['accuracy'])\n",
    "h = model.fit(train_images, train_labels_c, validation_data=(test_images, test_labels_c), verbose=1,epochs=5)"
   ]
  },
  {
   "cell_type": "code",
   "execution_count": 47,
   "metadata": {},
   "outputs": [
    {
     "name": "stdout",
     "output_type": "stream",
     "text": [
      "Train on 60000 samples, validate on 10000 samples\n",
      "Epoch 1/5\n",
      "60000/60000 [==============================] - 13s 214us/sample - loss: 0.2477 - accuracy: 0.9287 - val_loss: 0.1315 - val_accuracy: 0.9616\n",
      "Epoch 2/5\n",
      "60000/60000 [==============================] - 14s 229us/sample - loss: 0.1098 - accuracy: 0.9673 - val_loss: 0.0956 - val_accuracy: 0.9706\n",
      "Epoch 3/5\n",
      "60000/60000 [==============================] - 17s 284us/sample - loss: 0.0752 - accuracy: 0.9774 - val_loss: 0.0935 - val_accuracy: 0.9716\n",
      "Epoch 4/5\n",
      "60000/60000 [==============================] - 17s 287us/sample - loss: 0.0569 - accuracy: 0.9823 - val_loss: 0.0817 - val_accuracy: 0.9753\n",
      "Epoch 5/5\n",
      "60000/60000 [==============================] - 18s 296us/sample - loss: 0.0438 - accuracy: 0.9866 - val_loss: 0.0733 - val_accuracy: 0.9788\n"
     ]
    }
   ],
   "source": [
    "#kombination: mehr epochen, mehr hidden units\n",
    "model = tf.keras.models.Sequential([\n",
    "  #tf.keras.layers.Flatten(input_shape=(28, 28)),\n",
    "  tf.keras.layers.Dense(128, activation='relu'),\n",
    "  tf.keras.layers.Dense(10),\n",
    "  #tf.keras.layers.Softmax()\n",
    "])\n",
    "\n",
    "model.compile(optimizer='adam',\n",
    "              loss=tf.keras.losses.CategoricalCrossentropy(from_logits=True)\n",
    "              ,metrics=['accuracy'])\n",
    "h = model.fit(train_images, train_labels_c, validation_data=(test_images, test_labels_c), verbose=1,epochs=5)"
   ]
  }
 ],
 "metadata": {
  "kernelspec": {
   "display_name": "C:/Users/Timon Felske/Desktop/test/20200317-PlayGround-SB-master-20_Wayfinding_HMM/20_Wayfinding_HMM (Python 3.6)",
   "language": "python",
   "name": "c_users_timon_felske_desktop_test_20200317-playground-sb-master-20_wayfinding_hmm_20_wayfinding_hmm"
  },
  "language_info": {
   "codemirror_mode": {
    "name": "ipython",
    "version": 3
   },
   "file_extension": ".py",
   "mimetype": "text/x-python",
   "name": "python",
   "nbconvert_exporter": "python",
   "pygments_lexer": "ipython3",
   "version": "3.7.4"
  }
 },
 "nbformat": 4,
 "nbformat_minor": 2
}
